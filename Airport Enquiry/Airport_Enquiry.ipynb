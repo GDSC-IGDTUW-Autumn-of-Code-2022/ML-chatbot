{
  "nbformat": 4,
  "nbformat_minor": 0,
  "metadata": {
    "colab": {
      "provenance": []
    },
    "kernelspec": {
      "name": "python3",
      "display_name": "Python 3"
    },
    "language_info": {
      "name": "python"
    }
  },
  "cells": [
    {
      "cell_type": "code",
      "execution_count": 1,
      "metadata": {
        "colab": {
          "base_uri": "https://localhost:8080/",
          "height": 106
        },
        "id": "4-nC6FmN6w0L",
        "outputId": "0c70ee6c-e2f6-458c-87c4-11466019e09b"
      },
      "outputs": [
        {
          "output_type": "stream",
          "name": "stdout",
          "text": [
            "\u001b[1m\u001b[96mNotebook Color Scheme: \u001b[0m\n"
          ]
        },
        {
          "output_type": "display_data",
          "data": {
            "text/plain": [
              "<Figure size 360x72 with 1 Axes>"
            ],
            "image/png": "[encoded data removed]"
          },
          "metadata": {
            "needs_background": "light"
          }
        }
      ],
      "source": [
        "import seaborn as sns\n",
        "\n",
        "#Custom Colors\n",
        "class clr:\n",
        "    S = '\\033[1m' + '\\033[96m'\n",
        "    E = '\\033[0m'\n",
        "    \n",
        "my_colors = [\"#5800FF\", \"#0096FF\", \"#6CB4EE\", \"#00D7FF\", \"#72FFFF\"]\n",
        "\n",
        "print(clr.S + \"Notebook Color Scheme: \" + clr.E)\n",
        "sns.palplot(sns.color_palette(my_colors))"
      ]
    },
    {
      "cell_type": "code",
      "source": [
        "\n",
        "\n",
        "#Environment check\n",
        "import os\n",
        "import warnings\n",
        "warnings.filterwarnings(\"ignore\")\n",
        "\n"
      ],
      "metadata": {
        "id": "mKD3nPSL8J-h"
      },
      "execution_count": 2,
      "outputs": []
    },
    {
      "cell_type": "code",
      "source": [
        "import numpy as np # linear algebra\n",
        "import pandas as pd # data processing, CSV file I/O (e.g. pd.read_csv)\n",
        "\n",
        "import os\n",
        "for dirname, _, filenames in os.walk('/kaggle/input'):\n",
        "    for filename in filenames:\n",
        "        print(os.path.join(dirname, filename))\n"
      ],
      "metadata": {
        "id": "SWOkNrE_8L0c"
      },
      "execution_count": 3,
      "outputs": []
    },
    {
      "cell_type": "code",
      "source": [
        "\n",
        "\n",
        "df = pd.read_csv('/content/BLR Flight Schedule.csv', encoding = 'windows-1252')\n",
        "\n"
      ],
      "metadata": {
        "id": "UD6CotB98L3k"
      },
      "execution_count": 4,
      "outputs": []
    },
    {
      "cell_type": "code",
      "source": [
        "\n",
        "\n",
        "df.info()\n",
        "\n"
      ],
      "metadata": {
        "colab": {
          "base_uri": "https://localhost:8080/"
        },
        "id": "q30XXbqJ8L6L",
        "outputId": "54b22580-7294-4865-e3e7-17568def0bf6"
      },
      "execution_count": 5,
      "outputs": [
        {
          "output_type": "stream",
          "name": "stdout",
          "text": [
            "<class 'pandas.core.frame.DataFrame'>\n",
            "RangeIndex: 15561 entries, 0 to 15560\n",
            "Data columns (total 25 columns):\n",
            " #   Column                          Non-Null Count  Dtype \n",
            "---  ------                          --------------  ----- \n",
            " 0   Date_wise                       15561 non-null  object\n",
            " 1   Flight_No                       15561 non-null  object\n",
            " 2   Airlines_Name                   15561 non-null  object\n",
            " 3   Arrival/Departure               15561 non-null  object\n",
            " 4   Departure_City_Code             15561 non-null  object\n",
            " 5   Departure_City                  15561 non-null  object\n",
            " 6   Departure_Airport               15561 non-null  object\n",
            " 7   Departure_Date                  15561 non-null  object\n",
            " 8   Departure_time_scheduled        15560 non-null  object\n",
            " 9   Departure_time_Actual           14665 non-null  object\n",
            " 10  Departure_terminal              8156 non-null   object\n",
            " 11  Arrival_City_Code               15561 non-null  object\n",
            " 12  Arrival_City                    15561 non-null  object\n",
            " 13  Arrival_Airport                 15561 non-null  object\n",
            " 14  Arrival_Date                    15561 non-null  object\n",
            " 15  Arrival_time_scheduled          15561 non-null  object\n",
            " 16  Arrivial_time_Actual            14649 non-null  object\n",
            " 17  Arrival_terminal                7312 non-null   object\n",
            " 18  Flight_Status                   15561 non-null  object\n",
            " 19  Flight_Time_status              15561 non-null  object\n",
            " 20  Flight_delay_by_time            3849 non-null   object\n",
            " 21  Flight_time                     14544 non-null  object\n",
            " 22  Flight_distance                 14548 non-null  object\n",
            " 23  Aircraft_equipment_code         12539 non-null  object\n",
            " 24  Aircraft_equipment_description  12544 non-null  object\n",
            "dtypes: object(25)\n",
            "memory usage: 3.0+ MB\n"
          ]
        }
      ]
    },
    {
      "cell_type": "code",
      "source": [
        "\n",
        "\n",
        "df.describe()\n",
        "\n"
      ],
      "metadata": {
        "colab": {
          "base_uri": "https://localhost:8080/",
          "height": 285
        },
        "id": "m93qbaIn8L8z",
        "outputId": "9f0a5b52-200c-4074-c404-88cc2638c48b"
      },
      "execution_count": 6,
      "outputs": [
        {
          "output_type": "execute_result",
          "data": {
            "text/plain": [
              "         Date_wise Flight_No Airlines_Name Arrival/Departure  \\\n",
              "count        15561     15561         15561             15561   \n",
              "unique          22       885            43                 2   \n",
              "top     04-07-2022    I5 992        IndiGo           Arrival   \n",
              "freq           754        46          6632              7890   \n",
              "\n",
              "       Departure_City_Code Departure_City                 Departure_Airport  \\\n",
              "count                15561          15561                             15561   \n",
              "unique                  91             90                                91   \n",
              "top                    BLR      Bengaluru  Kempegowda International Airport   \n",
              "freq                  7671           7671                              7671   \n",
              "\n",
              "       Departure_Date Departure_time_scheduled Departure_time_Actual  ...  \\\n",
              "count           15561                    15560                 14665  ...   \n",
              "unique             23                      330                  1844  ...   \n",
              "top        30-06-2022                07:00 IST             06:00 IST  ...   \n",
              "freq              766                      204                    40  ...   \n",
              "\n",
              "       Arrival_time_scheduled Arrivial_time_Actual Arrival_terminal  \\\n",
              "count                   15561                14649             7312   \n",
              "unique                    337                 1891                9   \n",
              "top                 20:45 IST            08:59 IST                1   \n",
              "freq                      170                   31             5405   \n",
              "\n",
              "       Flight_Status Flight_Time_status Flight_delay_by_time Flight_time  \\\n",
              "count          15561              15561                 3849       14544   \n",
              "unique             8                  3                  222         416   \n",
              "top          Arrived            On time                  15m      2h 40m   \n",
              "freq           14576              10802                  206         178   \n",
              "\n",
              "       Flight_distance Aircraft_equipment_code Aircraft_equipment_description  \n",
              "count            14548                   12539                          12544  \n",
              "unique              90                      43                             37  \n",
              "top            1062 mi                     32N                 Airbus A320neo  \n",
              "freq              2350                    5933                           5933  \n",
              "\n",
              "[4 rows x 25 columns]"
            ],
            "text/html": [
              "\n",
              "  <div id=\"df-e9666be2-0386-4260-acdd-390764a3137b\">\n",
              "    <div class=\"colab-df-container\">\n",
              "      <div>\n",
              "<style scoped>\n",
              "    .dataframe tbody tr th:only-of-type {\n",
              "        vertical-align: middle;\n",
              "    }\n",
              "\n",
              "    .dataframe tbody tr th {\n",
              "        vertical-align: top;\n",
              "    }\n",
              "\n",
              "    .dataframe thead th {\n",
              "        text-align: right;\n",
              "    }\n",
              "</style>\n",
              "<table border=\"1\" class=\"dataframe\">\n",
              "  <thead>\n",
              "    <tr style=\"text-align: right;\">\n",
              "      <th></th>\n",
              "      <th>Date_wise</th>\n",
              "      <th>Flight_No</th>\n",
              "      <th>Airlines_Name</th>\n",
              "      <th>Arrival/Departure</th>\n",
              "      <th>Departure_City_Code</th>\n",
              "      <th>Departure_City</th>\n",
              "      <th>Departure_Airport</th>\n",
              "      <th>Departure_Date</th>\n",
              "      <th>Departure_time_scheduled</th>\n",
              "      <th>Departure_time_Actual</th>\n",
              "      <th>...</th>\n",
              "      <th>Arrival_time_scheduled</th>\n",
              "      <th>Arrivial_time_Actual</th>\n",
              "      <th>Arrival_terminal</th>\n",
              "      <th>Flight_Status</th>\n",
              "      <th>Flight_Time_status</th>\n",
              "      <th>Flight_delay_by_time</th>\n",
              "      <th>Flight_time</th>\n",
              "      <th>Flight_distance</th>\n",
              "      <th>Aircraft_equipment_code</th>\n",
              "      <th>Aircraft_equipment_description</th>\n",
              "    </tr>\n",
              "  </thead>\n",
              "  <tbody>\n",
              "    <tr>\n",
              "      <th>count</th>\n",
              "      <td>15561</td>\n",
              "      <td>15561</td>\n",
              "      <td>15561</td>\n",
              "      <td>15561</td>\n",
              "      <td>15561</td>\n",
              "      <td>15561</td>\n",
              "      <td>15561</td>\n",
              "      <td>15561</td>\n",
              "      <td>15560</td>\n",
              "      <td>14665</td>\n",
              "      <td>...</td>\n",
              "      <td>15561</td>\n",
              "      <td>14649</td>\n",
              "      <td>7312</td>\n",
              "      <td>15561</td>\n",
              "      <td>15561</td>\n",
              "      <td>3849</td>\n",
              "      <td>14544</td>\n",
              "      <td>14548</td>\n",
              "      <td>12539</td>\n",
              "      <td>12544</td>\n",
              "    </tr>\n",
              "    <tr>\n",
              "      <th>unique</th>\n",
              "      <td>22</td>\n",
              "      <td>885</td>\n",
              "      <td>43</td>\n",
              "      <td>2</td>\n",
              "      <td>91</td>\n",
              "      <td>90</td>\n",
              "      <td>91</td>\n",
              "      <td>23</td>\n",
              "      <td>330</td>\n",
              "      <td>1844</td>\n",
              "      <td>...</td>\n",
              "      <td>337</td>\n",
              "      <td>1891</td>\n",
              "      <td>9</td>\n",
              "      <td>8</td>\n",
              "      <td>3</td>\n",
              "      <td>222</td>\n",
              "      <td>416</td>\n",
              "      <td>90</td>\n",
              "      <td>43</td>\n",
              "      <td>37</td>\n",
              "    </tr>\n",
              "    <tr>\n",
              "      <th>top</th>\n",
              "      <td>04-07-2022</td>\n",
              "      <td>I5 992</td>\n",
              "      <td>IndiGo</td>\n",
              "      <td>Arrival</td>\n",
              "      <td>BLR</td>\n",
              "      <td>Bengaluru</td>\n",
              "      <td>Kempegowda International Airport</td>\n",
              "      <td>30-06-2022</td>\n",
              "      <td>07:00 IST</td>\n",
              "      <td>06:00 IST</td>\n",
              "      <td>...</td>\n",
              "      <td>20:45 IST</td>\n",
              "      <td>08:59 IST</td>\n",
              "      <td>1</td>\n",
              "      <td>Arrived</td>\n",
              "      <td>On time</td>\n",
              "      <td>15m</td>\n",
              "      <td>2h 40m</td>\n",
              "      <td>1062 mi</td>\n",
              "      <td>32N</td>\n",
              "      <td>Airbus A320neo</td>\n",
              "    </tr>\n",
              "    <tr>\n",
              "      <th>freq</th>\n",
              "      <td>754</td>\n",
              "      <td>46</td>\n",
              "      <td>6632</td>\n",
              "      <td>7890</td>\n",
              "      <td>7671</td>\n",
              "      <td>7671</td>\n",
              "      <td>7671</td>\n",
              "      <td>766</td>\n",
              "      <td>204</td>\n",
              "      <td>40</td>\n",
              "      <td>...</td>\n",
              "      <td>170</td>\n",
              "      <td>31</td>\n",
              "      <td>5405</td>\n",
              "      <td>14576</td>\n",
              "      <td>10802</td>\n",
              "      <td>206</td>\n",
              "      <td>178</td>\n",
              "      <td>2350</td>\n",
              "      <td>5933</td>\n",
              "      <td>5933</td>\n",
              "    </tr>\n",
              "  </tbody>\n",
              "</table>\n",
              "<p>4 rows × 25 columns</p>\n",
              "</div>\n",
              "      <button class=\"colab-df-convert\" onclick=\"convertToInteractive('df-e9666be2-0386-4260-acdd-390764a3137b')\"\n",
              "              title=\"Convert this dataframe to an interactive table.\"\n",
              "              style=\"display:none;\">\n",
              "        \n",
              "  <svg xmlns=\"http://www.w3.org/2000/svg\" height=\"24px\"viewBox=\"0 0 24 24\"\n",
              "       width=\"24px\">\n",
              "    <path d=\"M0 0h24v24H0V0z\" fill=\"none\"/>\n",
              "    <path d=\"M18.56 5.44l.94 2.06.94-2.06 2.06-.94-2.06-.94-.94-2.06-.94 2.06-2.06.94zm-11 1L8.5 8.5l.94-2.06 2.06-.94-2.06-.94L8.5 2.5l-.94 2.06-2.06.94zm10 10l.94 2.06.94-2.06 2.06-.94-2.06-.94-.94-2.06-.94 2.06-2.06.94z\"/><path d=\"M17.41 7.96l-1.37-1.37c-.4-.4-.92-.59-1.43-.59-.52 0-1.04.2-1.43.59L10.3 9.45l-7.72 7.72c-.78.78-.78 2.05 0 2.83L4 21.41c.39.39.9.59 1.41.59.51 0 1.02-.2 1.41-.59l7.78-7.78 2.81-2.81c.8-.78.8-2.07 0-2.86zM5.41 20L4 18.59l7.72-7.72 1.47 1.35L5.41 20z\"/>\n",
              "  </svg>\n",
              "      </button>\n",
              "      \n",
              "  <style>\n",
              "    .colab-df-container {\n",
              "      display:flex;\n",
              "      flex-wrap:wrap;\n",
              "      gap: 12px;\n",
              "    }\n",
              "\n",
              "    .colab-df-convert {\n",
              "      background-color: #E8F0FE;\n",
              "      border: none;\n",
              "      border-radius: 50%;\n",
              "      cursor: pointer;\n",
              "      display: none;\n",
              "      fill: #1967D2;\n",
              "      height: 32px;\n",
              "      padding: 0 0 0 0;\n",
              "      width: 32px;\n",
              "    }\n",
              "\n",
              "    .colab-df-convert:hover {\n",
              "      background-color: #E2EBFA;\n",
              "      box-shadow: 0px 1px 2px rgba(60, 64, 67, 0.3), 0px 1px 3px 1px rgba(60, 64, 67, 0.15);\n",
              "      fill: #174EA6;\n",
              "    }\n",
              "\n",
              "    [theme=dark] .colab-df-convert {\n",
              "      background-color: #3B4455;\n",
              "      fill: #D2E3FC;\n",
              "    }\n",
              "\n",
              "    [theme=dark] .colab-df-convert:hover {\n",
              "      background-color: #434B5C;\n",
              "      box-shadow: 0px 1px 3px 1px rgba(0, 0, 0, 0.15);\n",
              "      filter: drop-shadow(0px 1px 2px rgba(0, 0, 0, 0.3));\n",
              "      fill: #FFFFFF;\n",
              "    }\n",
              "  </style>\n",
              "\n",
              "      <script>\n",
              "        const buttonEl =\n",
              "          document.querySelector('#df-e9666be2-0386-4260-acdd-390764a3137b button.colab-df-convert');\n",
              "        buttonEl.style.display =\n",
              "          google.colab.kernel.accessAllowed ? 'block' : 'none';\n",
              "\n",
              "        async function convertToInteractive(key) {\n",
              "          const element = document.querySelector('#df-e9666be2-0386-4260-acdd-390764a3137b');\n",
              "          const dataTable =\n",
              "            await google.colab.kernel.invokeFunction('convertToInteractive',\n",
              "                                                     [key], {});\n",
              "          if (!dataTable) return;\n",
              "\n",
              "          const docLinkHtml = 'Like what you see? Visit the ' +\n",
              "            '<a target=\"_blank\" href=https://colab.research.google.com/notebooks/data_table.ipynb>data table notebook</a>'\n",
              "            + ' to learn more about interactive tables.';\n",
              "          element.innerHTML = '';\n",
              "          dataTable['output_type'] = 'display_data';\n",
              "          await google.colab.output.renderOutput(dataTable, element);\n",
              "          const docLink = document.createElement('div');\n",
              "          docLink.innerHTML = docLinkHtml;\n",
              "          element.appendChild(docLink);\n",
              "        }\n",
              "      </script>\n",
              "    </div>\n",
              "  </div>\n",
              "  "
            ]
          },
          "metadata": {},
          "execution_count": 6
        }
      ]
    },
    {
      "cell_type": "code",
      "source": [
        "df.columns"
      ],
      "metadata": {
        "colab": {
          "base_uri": "https://localhost:8080/"
        },
        "id": "yRnMkSuM8L_b",
        "outputId": "e54e9c81-382e-4c06-ca74-54b41a0a37e6"
      },
      "execution_count": 7,
      "outputs": [
        {
          "output_type": "execute_result",
          "data": {
            "text/plain": [
              "Index(['Date_wise', 'Flight_No', 'Airlines_Name', 'Arrival/Departure',\n",
              "       'Departure_City_Code', 'Departure_City', 'Departure_Airport',\n",
              "       'Departure_Date', 'Departure_time_scheduled', 'Departure_time_Actual',\n",
              "       'Departure_terminal', 'Arrival_City_Code', 'Arrival_City',\n",
              "       'Arrival_Airport', 'Arrival_Date', 'Arrival_time_scheduled',\n",
              "       'Arrivial_time_Actual', 'Arrival_terminal', 'Flight_Status',\n",
              "       'Flight_Time_status', 'Flight_delay_by_time', 'Flight_time',\n",
              "       'Flight_distance', 'Aircraft_equipment_code',\n",
              "       'Aircraft_equipment_description'],\n",
              "      dtype='object')"
            ]
          },
          "metadata": {},
          "execution_count": 7
        }
      ]
    },
    {
      "cell_type": "code",
      "source": [
        "df.head()"
      ],
      "metadata": {
        "colab": {
          "base_uri": "https://localhost:8080/",
          "height": 404
        },
        "id": "XA2l9_f88MCC",
        "outputId": "df6defcd-3d48-4e83-f630-1f0423b87147"
      },
      "execution_count": 8,
      "outputs": [
        {
          "output_type": "execute_result",
          "data": {
            "text/plain": [
              "    Date_wise Flight_No Airlines_Name Arrival/Departure Departure_City_Code  \\\n",
              "0  19-06-2022   6E 2532        IndiGo           Arrival                 DEL   \n",
              "1  19-06-2022    UK 857       Vistara           Arrival                 BOM   \n",
              "2  19-06-2022   6E 7166        IndiGo           Arrival                 TRZ   \n",
              "3  19-06-2022   6E 6354        IndiGo           Arrival                 LKO   \n",
              "4  19-06-2022   6E 6505        IndiGo           Arrival                 HYD   \n",
              "\n",
              "    Departure_City                             Departure_Airport  \\\n",
              "0            Delhi           Indira Gandhi International Airport   \n",
              "1           Mumbai     Chhatrapati Shivaji International Airport   \n",
              "2  Tiruchirappalli          Tiruchirapalli International Airport   \n",
              "3          Lucknow  Chaudhary Charan Singh International Airport   \n",
              "4        Hyderabad            Rajiv Gandhi International Airport   \n",
              "\n",
              "  Departure_Date Departure_time_scheduled Departure_time_Actual  ...  \\\n",
              "0     18-06-2022                20:10 IST             20:24 IST  ...   \n",
              "1     18-06-2022                21:30 IST             21:44 IST  ...   \n",
              "2     18-06-2022                22:35 IST             22:22 IST  ...   \n",
              "3     18-06-2022                21:15 IST             21:22 IST  ...   \n",
              "4     18-06-2022                22:30 IST             22:39 IST  ...   \n",
              "\n",
              "  Arrival_time_scheduled Arrivial_time_Actual Arrival_terminal Flight_Status  \\\n",
              "0              23:00 IST            00:06 IST                1       Arrived   \n",
              "1              23:10 IST            00:07 IST              NaN       Arrived   \n",
              "2              23:30 IST            00:01 IST                1       Arrived   \n",
              "3              23:40 IST            00:15 IST                1       Arrived   \n",
              "4              23:40 IST            00:18 IST                1       Arrived   \n",
              "\n",
              "  Flight_Time_status Flight_delay_by_time Flight_time Flight_distance  \\\n",
              "0            Delayed                1h 6m      3h 42m         1062 mi   \n",
              "1            Delayed                  57m      2h 23m          518 mi   \n",
              "2            Delayed                  31m      1h 39m          181 mi   \n",
              "3            Delayed                  35m      2h 53m          959 mi   \n",
              "4            Delayed                  38m      1h 39m          283 mi   \n",
              "\n",
              "  Aircraft_equipment_code Aircraft_equipment_description  \n",
              "0                     32Q                 Airbus A321neo  \n",
              "1                     32N                 Airbus A320neo  \n",
              "2                     AT7                         ATR 72  \n",
              "3                     32N                 Airbus A320neo  \n",
              "4                     320                    Airbus A320  \n",
              "\n",
              "[5 rows x 25 columns]"
            ],
            "text/html": [
              "\n",
              "  <div id=\"df-07e150d5-4e02-4761-8e96-d456d1707d31\">\n",
              "    <div class=\"colab-df-container\">\n",
              "      <div>\n",
              "<style scoped>\n",
              "    .dataframe tbody tr th:only-of-type {\n",
              "        vertical-align: middle;\n",
              "    }\n",
              "\n",
              "    .dataframe tbody tr th {\n",
              "        vertical-align: top;\n",
              "    }\n",
              "\n",
              "    .dataframe thead th {\n",
              "        text-align: right;\n",
              "    }\n",
              "</style>\n",
              "<table border=\"1\" class=\"dataframe\">\n",
              "  <thead>\n",
              "    <tr style=\"text-align: right;\">\n",
              "      <th></th>\n",
              "      <th>Date_wise</th>\n",
              "      <th>Flight_No</th>\n",
              "      <th>Airlines_Name</th>\n",
              "      <th>Arrival/Departure</th>\n",
              "      <th>Departure_City_Code</th>\n",
              "      <th>Departure_City</th>\n",
              "      <th>Departure_Airport</th>\n",
              "      <th>Departure_Date</th>\n",
              "      <th>Departure_time_scheduled</th>\n",
              "      <th>Departure_time_Actual</th>\n",
              "      <th>...</th>\n",
              "      <th>Arrival_time_scheduled</th>\n",
              "      <th>Arrivial_time_Actual</th>\n",
              "      <th>Arrival_terminal</th>\n",
              "      <th>Flight_Status</th>\n",
              "      <th>Flight_Time_status</th>\n",
              "      <th>Flight_delay_by_time</th>\n",
              "      <th>Flight_time</th>\n",
              "      <th>Flight_distance</th>\n",
              "      <th>Aircraft_equipment_code</th>\n",
              "      <th>Aircraft_equipment_description</th>\n",
              "    </tr>\n",
              "  </thead>\n",
              "  <tbody>\n",
              "    <tr>\n",
              "      <th>0</th>\n",
              "      <td>19-06-2022</td>\n",
              "      <td>6E 2532</td>\n",
              "      <td>IndiGo</td>\n",
              "      <td>Arrival</td>\n",
              "      <td>DEL</td>\n",
              "      <td>Delhi</td>\n",
              "      <td>Indira Gandhi International Airport</td>\n",
              "      <td>18-06-2022</td>\n",
              "      <td>20:10 IST</td>\n",
              "      <td>20:24 IST</td>\n",
              "      <td>...</td>\n",
              "      <td>23:00 IST</td>\n",
              "      <td>00:06 IST</td>\n",
              "      <td>1</td>\n",
              "      <td>Arrived</td>\n",
              "      <td>Delayed</td>\n",
              "      <td>1h 6m</td>\n",
              "      <td>3h 42m</td>\n",
              "      <td>1062 mi</td>\n",
              "      <td>32Q</td>\n",
              "      <td>Airbus A321neo</td>\n",
              "    </tr>\n",
              "    <tr>\n",
              "      <th>1</th>\n",
              "      <td>19-06-2022</td>\n",
              "      <td>UK 857</td>\n",
              "      <td>Vistara</td>\n",
              "      <td>Arrival</td>\n",
              "      <td>BOM</td>\n",
              "      <td>Mumbai</td>\n",
              "      <td>Chhatrapati Shivaji International Airport</td>\n",
              "      <td>18-06-2022</td>\n",
              "      <td>21:30 IST</td>\n",
              "      <td>21:44 IST</td>\n",
              "      <td>...</td>\n",
              "      <td>23:10 IST</td>\n",
              "      <td>00:07 IST</td>\n",
              "      <td>NaN</td>\n",
              "      <td>Arrived</td>\n",
              "      <td>Delayed</td>\n",
              "      <td>57m</td>\n",
              "      <td>2h 23m</td>\n",
              "      <td>518 mi</td>\n",
              "      <td>32N</td>\n",
              "      <td>Airbus A320neo</td>\n",
              "    </tr>\n",
              "    <tr>\n",
              "      <th>2</th>\n",
              "      <td>19-06-2022</td>\n",
              "      <td>6E 7166</td>\n",
              "      <td>IndiGo</td>\n",
              "      <td>Arrival</td>\n",
              "      <td>TRZ</td>\n",
              "      <td>Tiruchirappalli</td>\n",
              "      <td>Tiruchirapalli International Airport</td>\n",
              "      <td>18-06-2022</td>\n",
              "      <td>22:35 IST</td>\n",
              "      <td>22:22 IST</td>\n",
              "      <td>...</td>\n",
              "      <td>23:30 IST</td>\n",
              "      <td>00:01 IST</td>\n",
              "      <td>1</td>\n",
              "      <td>Arrived</td>\n",
              "      <td>Delayed</td>\n",
              "      <td>31m</td>\n",
              "      <td>1h 39m</td>\n",
              "      <td>181 mi</td>\n",
              "      <td>AT7</td>\n",
              "      <td>ATR 72</td>\n",
              "    </tr>\n",
              "    <tr>\n",
              "      <th>3</th>\n",
              "      <td>19-06-2022</td>\n",
              "      <td>6E 6354</td>\n",
              "      <td>IndiGo</td>\n",
              "      <td>Arrival</td>\n",
              "      <td>LKO</td>\n",
              "      <td>Lucknow</td>\n",
              "      <td>Chaudhary Charan Singh International Airport</td>\n",
              "      <td>18-06-2022</td>\n",
              "      <td>21:15 IST</td>\n",
              "      <td>21:22 IST</td>\n",
              "      <td>...</td>\n",
              "      <td>23:40 IST</td>\n",
              "      <td>00:15 IST</td>\n",
              "      <td>1</td>\n",
              "      <td>Arrived</td>\n",
              "      <td>Delayed</td>\n",
              "      <td>35m</td>\n",
              "      <td>2h 53m</td>\n",
              "      <td>959 mi</td>\n",
              "      <td>32N</td>\n",
              "      <td>Airbus A320neo</td>\n",
              "    </tr>\n",
              "    <tr>\n",
              "      <th>4</th>\n",
              "      <td>19-06-2022</td>\n",
              "      <td>6E 6505</td>\n",
              "      <td>IndiGo</td>\n",
              "      <td>Arrival</td>\n",
              "      <td>HYD</td>\n",
              "      <td>Hyderabad</td>\n",
              "      <td>Rajiv Gandhi International Airport</td>\n",
              "      <td>18-06-2022</td>\n",
              "      <td>22:30 IST</td>\n",
              "      <td>22:39 IST</td>\n",
              "      <td>...</td>\n",
              "      <td>23:40 IST</td>\n",
              "      <td>00:18 IST</td>\n",
              "      <td>1</td>\n",
              "      <td>Arrived</td>\n",
              "      <td>Delayed</td>\n",
              "      <td>38m</td>\n",
              "      <td>1h 39m</td>\n",
              "      <td>283 mi</td>\n",
              "      <td>320</td>\n",
              "      <td>Airbus A320</td>\n",
              "    </tr>\n",
              "  </tbody>\n",
              "</table>\n",
              "<p>5 rows × 25 columns</p>\n",
              "</div>\n",
              "      <button class=\"colab-df-convert\" onclick=\"convertToInteractive('df-07e150d5-4e02-4761-8e96-d456d1707d31')\"\n",
              "              title=\"Convert this dataframe to an interactive table.\"\n",
              "              style=\"display:none;\">\n",
              "        \n",
              "  <svg xmlns=\"http://www.w3.org/2000/svg\" height=\"24px\"viewBox=\"0 0 24 24\"\n",
              "       width=\"24px\">\n",
              "    <path d=\"M0 0h24v24H0V0z\" fill=\"none\"/>\n",
              "    <path d=\"M18.56 5.44l.94 2.06.94-2.06 2.06-.94-2.06-.94-.94-2.06-.94 2.06-2.06.94zm-11 1L8.5 8.5l.94-2.06 2.06-.94-2.06-.94L8.5 2.5l-.94 2.06-2.06.94zm10 10l.94 2.06.94-2.06 2.06-.94-2.06-.94-.94-2.06-.94 2.06-2.06.94z\"/><path d=\"M17.41 7.96l-1.37-1.37c-.4-.4-.92-.59-1.43-.59-.52 0-1.04.2-1.43.59L10.3 9.45l-7.72 7.72c-.78.78-.78 2.05 0 2.83L4 21.41c.39.39.9.59 1.41.59.51 0 1.02-.2 1.41-.59l7.78-7.78 2.81-2.81c.8-.78.8-2.07 0-2.86zM5.41 20L4 18.59l7.72-7.72 1.47 1.35L5.41 20z\"/>\n",
              "  </svg>\n",
              "      </button>\n",
              "      \n",
              "  <style>\n",
              "    .colab-df-container {\n",
              "      display:flex;\n",
              "      flex-wrap:wrap;\n",
              "      gap: 12px;\n",
              "    }\n",
              "\n",
              "    .colab-df-convert {\n",
              "      background-color: #E8F0FE;\n",
              "      border: none;\n",
              "      border-radius: 50%;\n",
              "      cursor: pointer;\n",
              "      display: none;\n",
              "      fill: #1967D2;\n",
              "      height: 32px;\n",
              "      padding: 0 0 0 0;\n",
              "      width: 32px;\n",
              "    }\n",
              "\n",
              "    .colab-df-convert:hover {\n",
              "      background-color: #E2EBFA;\n",
              "      box-shadow: 0px 1px 2px rgba(60, 64, 67, 0.3), 0px 1px 3px 1px rgba(60, 64, 67, 0.15);\n",
              "      fill: #174EA6;\n",
              "    }\n",
              "\n",
              "    [theme=dark] .colab-df-convert {\n",
              "      background-color: #3B4455;\n",
              "      fill: #D2E3FC;\n",
              "    }\n",
              "\n",
              "    [theme=dark] .colab-df-convert:hover {\n",
              "      background-color: #434B5C;\n",
              "      box-shadow: 0px 1px 3px 1px rgba(0, 0, 0, 0.15);\n",
              "      filter: drop-shadow(0px 1px 2px rgba(0, 0, 0, 0.3));\n",
              "      fill: #FFFFFF;\n",
              "    }\n",
              "  </style>\n",
              "\n",
              "      <script>\n",
              "        const buttonEl =\n",
              "          document.querySelector('#df-07e150d5-4e02-4761-8e96-d456d1707d31 button.colab-df-convert');\n",
              "        buttonEl.style.display =\n",
              "          google.colab.kernel.accessAllowed ? 'block' : 'none';\n",
              "\n",
              "        async function convertToInteractive(key) {\n",
              "          const element = document.querySelector('#df-07e150d5-4e02-4761-8e96-d456d1707d31');\n",
              "          const dataTable =\n",
              "            await google.colab.kernel.invokeFunction('convertToInteractive',\n",
              "                                                     [key], {});\n",
              "          if (!dataTable) return;\n",
              "\n",
              "          const docLinkHtml = 'Like what you see? Visit the ' +\n",
              "            '<a target=\"_blank\" href=https://colab.research.google.com/notebooks/data_table.ipynb>data table notebook</a>'\n",
              "            + ' to learn more about interactive tables.';\n",
              "          element.innerHTML = '';\n",
              "          dataTable['output_type'] = 'display_data';\n",
              "          await google.colab.output.renderOutput(dataTable, element);\n",
              "          const docLink = document.createElement('div');\n",
              "          docLink.innerHTML = docLinkHtml;\n",
              "          element.appendChild(docLink);\n",
              "        }\n",
              "      </script>\n",
              "    </div>\n",
              "  </div>\n",
              "  "
            ]
          },
          "metadata": {},
          "execution_count": 8
        }
      ]
    },
    {
      "cell_type": "markdown",
      "source": [
        "Data Cleaning\n",
        "\n",
        "    Check and Drop all null values\n",
        "\n",
        "    Drop any column that does not add value to analysis\n"
      ],
      "metadata": {
        "id": "xGy3Bkgu89dd"
      }
    },
    {
      "cell_type": "code",
      "source": [
        "df.isna().any()"
      ],
      "metadata": {
        "colab": {
          "base_uri": "https://localhost:8080/"
        },
        "id": "aNoBiddv8MOf",
        "outputId": "24089d7f-0aef-4482-b431-ec79a249f8ef"
      },
      "execution_count": 9,
      "outputs": [
        {
          "output_type": "execute_result",
          "data": {
            "text/plain": [
              "Date_wise                         False\n",
              "Flight_No                         False\n",
              "Airlines_Name                     False\n",
              "Arrival/Departure                 False\n",
              "Departure_City_Code               False\n",
              "Departure_City                    False\n",
              "Departure_Airport                 False\n",
              "Departure_Date                    False\n",
              "Departure_time_scheduled           True\n",
              "Departure_time_Actual              True\n",
              "Departure_terminal                 True\n",
              "Arrival_City_Code                 False\n",
              "Arrival_City                      False\n",
              "Arrival_Airport                   False\n",
              "Arrival_Date                      False\n",
              "Arrival_time_scheduled            False\n",
              "Arrivial_time_Actual               True\n",
              "Arrival_terminal                   True\n",
              "Flight_Status                     False\n",
              "Flight_Time_status                False\n",
              "Flight_delay_by_time               True\n",
              "Flight_time                        True\n",
              "Flight_distance                    True\n",
              "Aircraft_equipment_code            True\n",
              "Aircraft_equipment_description     True\n",
              "dtype: bool"
            ]
          },
          "metadata": {},
          "execution_count": 9
        }
      ]
    },
    {
      "cell_type": "code",
      "source": [
        "\n",
        "\n",
        "df.replace('Nan',np.nan, inplace = True)\n",
        "\n"
      ],
      "metadata": {
        "id": "ybCcnQ7v8MRq"
      },
      "execution_count": 10,
      "outputs": []
    },
    {
      "cell_type": "code",
      "source": [
        "\n",
        "\n",
        "df.dropna(axis = 0, inplace = True)\n",
        "\n"
      ],
      "metadata": {
        "id": "w1mI-Kej8MXg"
      },
      "execution_count": 11,
      "outputs": []
    },
    {
      "cell_type": "code",
      "source": [
        "df.isna().any()"
      ],
      "metadata": {
        "colab": {
          "base_uri": "https://localhost:8080/"
        },
        "id": "3-KWpc5Q8MbQ",
        "outputId": "e2ad995d-84de-47da-c885-263cf028a6e9"
      },
      "execution_count": 12,
      "outputs": [
        {
          "output_type": "execute_result",
          "data": {
            "text/plain": [
              "Date_wise                         False\n",
              "Flight_No                         False\n",
              "Airlines_Name                     False\n",
              "Arrival/Departure                 False\n",
              "Departure_City_Code               False\n",
              "Departure_City                    False\n",
              "Departure_Airport                 False\n",
              "Departure_Date                    False\n",
              "Departure_time_scheduled          False\n",
              "Departure_time_Actual             False\n",
              "Departure_terminal                False\n",
              "Arrival_City_Code                 False\n",
              "Arrival_City                      False\n",
              "Arrival_Airport                   False\n",
              "Arrival_Date                      False\n",
              "Arrival_time_scheduled            False\n",
              "Arrivial_time_Actual              False\n",
              "Arrival_terminal                  False\n",
              "Flight_Status                     False\n",
              "Flight_Time_status                False\n",
              "Flight_delay_by_time              False\n",
              "Flight_time                       False\n",
              "Flight_distance                   False\n",
              "Aircraft_equipment_code           False\n",
              "Aircraft_equipment_description    False\n",
              "dtype: bool"
            ]
          },
          "metadata": {},
          "execution_count": 12
        }
      ]
    },
    {
      "cell_type": "code",
      "source": [
        "df.drop(columns = ['Aircraft_equipment_code', 'Departure_City_Code', 'Arrival_City_Code'], inplace = True)"
      ],
      "metadata": {
        "id": "t4LAfTo98MeZ"
      },
      "execution_count": 13,
      "outputs": []
    },
    {
      "cell_type": "code",
      "source": [
        "\n",
        "\n",
        "df.columns\n",
        "\n"
      ],
      "metadata": {
        "colab": {
          "base_uri": "https://localhost:8080/"
        },
        "id": "8Md6r7Fl8MhO",
        "outputId": "b2bd51da-3980-4b51-a0a2-8a37887221f2"
      },
      "execution_count": 14,
      "outputs": [
        {
          "output_type": "execute_result",
          "data": {
            "text/plain": [
              "Index(['Date_wise', 'Flight_No', 'Airlines_Name', 'Arrival/Departure',\n",
              "       'Departure_City', 'Departure_Airport', 'Departure_Date',\n",
              "       'Departure_time_scheduled', 'Departure_time_Actual',\n",
              "       'Departure_terminal', 'Arrival_City', 'Arrival_Airport', 'Arrival_Date',\n",
              "       'Arrival_time_scheduled', 'Arrivial_time_Actual', 'Arrival_terminal',\n",
              "       'Flight_Status', 'Flight_Time_status', 'Flight_delay_by_time',\n",
              "       'Flight_time', 'Flight_distance', 'Aircraft_equipment_description'],\n",
              "      dtype='object')"
            ]
          },
          "metadata": {},
          "execution_count": 14
        }
      ]
    },
    {
      "cell_type": "markdown",
      "source": [
        "Let's see what all we can explore in this dataset\n",
        "\n",
        "        Passengers travel to which city (Arrival city) more often from Banglore?\n",
        "\n",
        "        Which flight is usually ariving late?\n",
        "\n",
        "        What is the maximum delayed time for a flight?\n",
        "\n",
        "        Which Airlines has most flights ariving at Banglore?\n",
        "\n",
        "        Which flight took most time to cover and from where?\n",
        "\n",
        "        Which Airlines travel maximum distance?\n",
        "\n"
      ],
      "metadata": {
        "id": "B3vrpdzk9Veq"
      }
    },
    {
      "cell_type": "markdown",
      "source": [
        "1.Passengers travel to which city (Arrival city) more often from Banglore?"
      ],
      "metadata": {
        "id": "1PUHkNXP9aZa"
      }
    },
    {
      "cell_type": "code",
      "source": [
        "\n",
        "\n",
        "import matplotlib.pyplot as plt\n",
        "\n"
      ],
      "metadata": {
        "id": "cvA97N_p9O3l"
      },
      "execution_count": 15,
      "outputs": []
    },
    {
      "cell_type": "code",
      "source": [
        "\n",
        "\n",
        "most_travelled = df['Arrival_City'].value_counts()\n",
        "most_travelled\n",
        "\n"
      ],
      "metadata": {
        "colab": {
          "base_uri": "https://localhost:8080/"
        },
        "id": "dAx3-33i9O6h",
        "outputId": "ad6404da-6465-42df-b94a-012814bc8391"
      },
      "execution_count": 16,
      "outputs": [
        {
          "output_type": "execute_result",
          "data": {
            "text/plain": [
              "Bengaluru             366\n",
              "Mumbai                111\n",
              "Delhi                  89\n",
              "Ahmedabad              39\n",
              "Kochi                  36\n",
              "Chennai                19\n",
              "Lucknow                15\n",
              "Jaipur                 13\n",
              "Thiruvananthapuram     12\n",
              "Bhubaneswar            12\n",
              "Singapore              10\n",
              "Dubai                   4\n",
              "Rajahmundry             2\n",
              "Jharsuguda              1\n",
              "Kuala Lumpur            1\n",
              "Bangkok                 1\n",
              "Madurai                 1\n",
              "Name: Arrival_City, dtype: int64"
            ]
          },
          "metadata": {},
          "execution_count": 16
        }
      ]
    },
    {
      "cell_type": "code",
      "source": [
        "\n",
        "\n",
        "plt.figure(figsize=(15,8))\n",
        "most_travelled.plot(kind = 'bar',color = my_colors[0])\n",
        "plt.show()\n",
        "\n"
      ],
      "metadata": {
        "colab": {
          "base_uri": "https://localhost:8080/",
          "height": 578
        },
        "id": "1AhRCE8X9O9k",
        "outputId": "a108bcb9-e419-431d-8b51-006928dd30dd"
      },
      "execution_count": 17,
      "outputs": [
        {
          "output_type": "display_data",
          "data": {
            "text/plain": [
              "<Figure size 1080x576 with 1 Axes>"
            ],
            "image/png": "[encoded data removed]"
          },
          "metadata": {
            "needs_background": "light"
          }
        }
      ]
    },
    {
      "cell_type": "markdown",
      "source": [
        " 2.Which flight is usually ariving late?"
      ],
      "metadata": {
        "id": "ye2hzFZe94Tg"
      }
    },
    {
      "cell_type": "code",
      "source": [
        "late_arrival = df['Flight_Time_status'].value_counts()\n",
        "late_arrival"
      ],
      "metadata": {
        "colab": {
          "base_uri": "https://localhost:8080/"
        },
        "id": "O7_eaC2Q9PAU",
        "outputId": "1f1f33d7-60bf-4ae6-9d98-fc0c840a64d8"
      },
      "execution_count": 18,
      "outputs": [
        {
          "output_type": "execute_result",
          "data": {
            "text/plain": [
              "Delayed    732\n",
              "Name: Flight_Time_status, dtype: int64"
            ]
          },
          "metadata": {},
          "execution_count": 18
        }
      ]
    },
    {
      "cell_type": "code",
      "source": [
        "\n",
        "\n",
        "plt.figure(figsize= (8,8))\n",
        "late_arrival.plot(kind = 'bar',color = my_colors[1])\n",
        "plt.show()\n",
        "\n"
      ],
      "metadata": {
        "colab": {
          "base_uri": "https://localhost:8080/",
          "height": 514
        },
        "id": "GOQybtS49PDi",
        "outputId": "3274e26b-8ca8-418a-8a5b-5f370216749d"
      },
      "execution_count": 19,
      "outputs": [
        {
          "output_type": "display_data",
          "data": {
            "text/plain": [
              "<Figure size 576x576 with 1 Axes>"
            ],
            "image/png": "[encoded data removed]"
          },
          "metadata": {
            "needs_background": "light"
          }
        }
      ]
    },
    {
      "cell_type": "markdown",
      "source": [
        "3.What is the maximum delayed time for a flight?"
      ],
      "metadata": {
        "id": "0bw0c5lm-FNJ"
      }
    },
    {
      "cell_type": "code",
      "source": [
        "\n",
        "\n",
        "Max_delayed_time = df['Flight_delay_by_time'].value_counts()\n",
        "Max_delayed_time\n",
        "\n"
      ],
      "metadata": {
        "colab": {
          "base_uri": "https://localhost:8080/"
        },
        "id": "ukwSp7N09PGi",
        "outputId": "26811ee5-3e32-41f7-a997-8046ca00adc8"
      },
      "execution_count": 20,
      "outputs": [
        {
          "output_type": "execute_result",
          "data": {
            "text/plain": [
              "16m       45\n",
              "15m       39\n",
              "20m       32\n",
              "19m       28\n",
              "17m       28\n",
              "          ..\n",
              "3h 27m     1\n",
              "1h 16m     1\n",
              "2h 35m     1\n",
              "4h 5m      1\n",
              "1h 37m     1\n",
              "Name: Flight_delay_by_time, Length: 112, dtype: int64"
            ]
          },
          "metadata": {},
          "execution_count": 20
        }
      ]
    },
    {
      "cell_type": "markdown",
      "source": [
        "From above we can infer that most of the time, flights are delayed max by about 16 minutes.\n",
        "4.Which Airlines has most flights ariving at Banglore?"
      ],
      "metadata": {
        "id": "I2rL4_Xb-Mxw"
      }
    },
    {
      "cell_type": "code",
      "source": [
        "\n",
        "\n",
        "most_airlines = df['Airlines_Name'].value_counts()\n",
        "most_airlines\n",
        "\n"
      ],
      "metadata": {
        "colab": {
          "base_uri": "https://localhost:8080/"
        },
        "id": "YEjFXW-_9PKF",
        "outputId": "1c5a47b5-bdea-434f-ed14-e6a56ed94079"
      },
      "execution_count": 21,
      "outputs": [
        {
          "output_type": "execute_result",
          "data": {
            "text/plain": [
              "IndiGo               558\n",
              "Turkish Airlines      40\n",
              "KLM                   39\n",
              "Air France            26\n",
              "FlexFlight            21\n",
              "American Airlines     21\n",
              "Emirates              13\n",
              "SpiceJet               8\n",
              "Go First               3\n",
              "AirAsia India          1\n",
              "AirAsia                1\n",
              "Thai AirAsia           1\n",
              "Name: Airlines_Name, dtype: int64"
            ]
          },
          "metadata": {},
          "execution_count": 21
        }
      ]
    },
    {
      "cell_type": "code",
      "source": [
        "\n",
        "\n",
        "plt.figure(figsize= (15,8))\n",
        "most_airlines.plot(kind = 'barh',color = my_colors[2])\n",
        "plt.show()\n",
        "\n"
      ],
      "metadata": {
        "colab": {
          "base_uri": "https://localhost:8080/",
          "height": 483
        },
        "id": "yWNRsl318Mkb",
        "outputId": "3f488c28-5ef5-493e-eaa9-5071f82cfec4"
      },
      "execution_count": 22,
      "outputs": [
        {
          "output_type": "display_data",
          "data": {
            "text/plain": [
              "<Figure size 1080x576 with 1 Axes>"
            ],
            "image/png": "[encoded data removed]"
          },
          "metadata": {
            "needs_background": "light"
          }
        }
      ]
    },
    {
      "cell_type": "code",
      "source": [
        "\n",
        "\n",
        "plt.figure(figsize= (15,8))\n",
        "most_airlines.plot(kind = 'pie')\n",
        "plt.show()\n",
        "\n"
      ],
      "metadata": {
        "colab": {
          "base_uri": "https://localhost:8080/",
          "height": 466
        },
        "id": "1uCP94yb8Mnp",
        "outputId": "00d4a25a-4888-40ed-a880-15a6e7fc30ee"
      },
      "execution_count": 23,
      "outputs": [
        {
          "output_type": "display_data",
          "data": {
            "text/plain": [
              "<Figure size 1080x576 with 1 Axes>"
            ],
            "image/png": "[encoded data removed]"
          },
          "metadata": {}
        }
      ]
    },
    {
      "cell_type": "markdown",
      "source": [
        "Indigo Airlines have most flights going in and out Banglore. Precisely, because Banglore is the IT hub and people from across India work there. Hence, most of the people travel to and out of Banglore go to various cities accross India as compared to International flights by Airlines like KLM or Turkish Airlines. Thus, people prefer Indigo Ailines the most\n",
        "5.Which flight took most time to cover and from where?"
      ],
      "metadata": {
        "id": "VxhiPD9I-jRf"
      }
    },
    {
      "cell_type": "code",
      "source": [
        "\n",
        "\n",
        "Max_time = df['Flight_time'].max()\n",
        "Max_time_flight = df.loc[df['Flight_time'] == Max_time, 'Arrival_City'].iloc[0]\n",
        "print(\"Flight from \", Max_time_flight, \" took maximum time of \", Max_time, \" to reach Banglore.\")\n",
        "\n"
      ],
      "metadata": {
        "colab": {
          "base_uri": "https://localhost:8080/"
        },
        "id": "DOk_R_Eb-Y9y",
        "outputId": "dfdb1e13-ce0c-410a-9233-95a78664dca9"
      },
      "execution_count": 24,
      "outputs": [
        {
          "output_type": "stream",
          "name": "stdout",
          "text": [
            "Flight from  Singapore  took maximum time of  5h 1m  to reach Banglore.\n"
          ]
        }
      ]
    },
    {
      "cell_type": "markdown",
      "source": [
        "6.Which Airlines travel maximum distance?"
      ],
      "metadata": {
        "id": "I0YmS-_9-vxm"
      }
    },
    {
      "cell_type": "code",
      "source": [
        "\n",
        "\n",
        "sns.catplot(x = 'Airlines_Name',\n",
        "            y = 'Flight_distance',\n",
        "            kind = \"strip\",\n",
        "            height = 7,\n",
        "            aspect = 2,            \n",
        "            data = df).set(title = \"Airlines vs Flight Distance\");\n",
        "\n"
      ],
      "metadata": {
        "colab": {
          "base_uri": "https://localhost:8080/",
          "height": 529
        },
        "id": "R9GLTiRS-ZBv",
        "outputId": "387e789b-7546-4385-f749-cd22dd59774b"
      },
      "execution_count": 25,
      "outputs": [
        {
          "output_type": "display_data",
          "data": {
            "text/plain": [
              "<Figure size 1008x504 with 1 Axes>"
            ],
            "image/png": "[encoded data removed]"
          },
          "metadata": {
            "needs_background": "light"
          }
        }
      ]
    },
    {
      "cell_type": "code",
      "source": [
        "#Which airlines flight is delayed my maximum time\n",
        "plt.figure(figsize= (15,8))\n",
        "sns.stripplot(x=\"Flight_delay_by_time\", y=\"Airlines_Name\", data=df, jitter=0.05).set(title = \"Airlines vs Delayed time\");"
      ],
      "metadata": {
        "colab": {
          "base_uri": "https://localhost:8080/",
          "height": 514
        },
        "id": "F7XYcsPM-ZFQ",
        "outputId": "ba32088e-1138-4152-d5e1-4a557b3513ac"
      },
      "execution_count": 26,
      "outputs": [
        {
          "output_type": "display_data",
          "data": {
            "text/plain": [
              "<Figure size 1080x576 with 1 Axes>"
            ],
            "image/png": "[encoded data removed]"
          },
          "metadata": {
            "needs_background": "light"
          }
        }
      ]
    },
    {
      "cell_type": "markdown",
      "source": [
        "\n",
        "\n",
        "IndiGo flights are most frequent travellers to Banglore and thus have highest delay time as well.\n"
      ],
      "metadata": {
        "id": "95NfiTm__ECP"
      }
    }
  ]
}